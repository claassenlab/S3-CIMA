{
 "cells": [
  {
   "cell_type": "markdown",
   "metadata": {},
   "source": [
    "In this example, S3-CIMA is from plotting_sb import plot_results\n",
    "to the data of the CRC study (Schürch et al., 2020), where patients were stratified in two groups with differential survival, i.e., 17 patients with Crohn’s-like reaction (CLR) and 18 patients with diffuse inflammatory infiltration (DII)including 56-marker multiplexed CODEX tissue imaging data of140 TMA spots i.e., 4 CODEX images for each patient"
   ]
  },
  {
   "cell_type": "code",
   "execution_count": 7,
   "metadata": {},
   "outputs": [],
   "source": [
    "import os\n",
    "import numpy as np\n",
    "import pandas as pd\n",
    "from grepfunc import grep\n",
    "import argparse\n",
    "import modules_scima as ms\n",
    "from scipy import stats\n",
    "import pickle\n",
    "from utils import mkdir_p\n",
    "from plotting_scima import plot_results\n",
    "\n",
    "np.random.seed(12345)"
   ]
  },
  {
   "cell_type": "markdown",
   "metadata": {},
   "source": [
    "Read the data table including ALL cells ids, marker expression, image spot ids, patient ids, X and Y coordinates."
   ]
  },
  {
   "cell_type": "code",
   "execution_count": 7,
   "metadata": {},
   "outputs": [],
   "source": [
    "path = '/'.join(os.path.abspath(os.getcwd()).split('/')[:-1])+'/CRCs'\n",
    "\n",
    "#remove dirt\n",
    "Data = pd.read_csv(\"CrCnodirt.csv\", sep=',')\n"
   ]
  },
  {
   "cell_type": "code",
   "execution_count": 8,
   "metadata": {},
   "outputs": [],
   "source": [
    "data =Data.values\n",
    "\n",
    "cols =Data.columns.tolist()\n",
    "\n",
    "inx = np.asarray(grep(cols, \"Cyc\" , n=True))\n",
    "markers = inx[:,1].tolist()\n",
    "inx = inx [:,0].astype(int)\n",
    "\n",
    "Intensity =data[:,inx]\n",
    "#Intensity = np.arcsinh(Intensity.astype(float))\n",
    "\n",
    "Intensity = (1e-3+Intensity).astype(float)\n",
    "Intensity = np.log2(Intensity)\n",
    "Intensity =stats.zscore(pd.DataFrame(Intensity))"
   ]
  },
  {
   "cell_type": "code",
   "execution_count": 9,
   "metadata": {},
   "outputs": [],
   "source": [
    "\n",
    "pat = np.asarray(Data['patients'])\n",
    "image = np.asarray(Data['spots'])\n",
    "ct = np.asarray(Data['ClusterName'])\n",
    "x = np.asarray(Data['X.X'])\n",
    "y = np.asarray(Data['Y.Y'])\n",
    "cellid = np.asarray(Data['CellID'])\n",
    "groups = np.asarray(Data['groups'])\n",
    "labels = np.unique(np.asarray(Data['groups']))\n"
   ]
  },
  {
   "cell_type": "markdown",
   "metadata": {},
   "source": [
    "Make the spatial input for global spatial enrichment analysis (back ground (BG))"
   ]
  },
  {
   "cell_type": "code",
   "execution_count": 10,
   "metadata": {},
   "outputs": [],
   "source": [
    "#number of random sets\n",
    "N = 50\n",
    "#number of nearest neighbor cells \n",
    "K = 50\n",
    "Anchor = 'BG'\n",
    "OUTDIR = path + '/Anchor' + str(Anchor)\n",
    "\n",
    "for i in range(0, len(labels)):\n",
    "    inx = np.where(groups == labels[i])[0]\n",
    "    rd,rs, nset = ms.BG_spatial_input_per_sample(N, image[inx], pat[inx], Intensity[inx,:], ct[inx], x[inx], \n",
    "                               y[inx], cellid[inx], K, labels[i], OUTDIR)\n"
   ]
  },
  {
   "cell_type": "code",
   "execution_count": 2,
   "metadata": {},
   "outputs": [
    {
     "name": "stdout",
     "output_type": "stream",
     "text": [
      "output will be rdirected to /Users/sepidehbabaei/Desktop/CRCs/resultsBG/run_log//data_run_log_18_18_27.txt\n"
     ]
    }
   ],
   "source": [
    "\n",
    "Anchor = 'BG'\n",
    "ntrain_per_class = 12\n",
    "K = 50 \n",
    "k = 50\n",
    "\n",
    "\n",
    "labels = ['1', '2']\n",
    "classes = [0, 1]\n",
    "\n",
    "path = '/'.join(os.path.abspath(os.getcwd()).split('/')[:-1])+'/CRCs'\n",
    "\n",
    "nrun = 50\n",
    "nset_thr = 1\n",
    "background = False\n",
    "ms.run_scima(Anchor, ntrain_per_class, K, k, nset_thr, labels, classes, path, nrun, background)\n",
    "\n"
   ]
  },
  {
   "cell_type": "markdown",
   "metadata": {},
   "source": [
    "Make the spatial input for local spatial enrichment analysis (e.g. CF4 T cells as an anchor)"
   ]
  },
  {
   "cell_type": "code",
   "execution_count": 15,
   "metadata": {},
   "outputs": [],
   "source": [
    "CTs = np.unique(np.asarray(Data['ClusterName']))\n",
    "Anchor = 'CD4+ T cells'\n",
    "OUTDIR = path + '/Anchor' + str(Anchor)\n",
    "\n",
    "#number of nearest neighbor cells around each anchor cell\n",
    "K = 50\n",
    "\n",
    "for i in range(0, len(labels)):\n",
    "    inx = np.where(groups == labels[i])[0]\n",
    "    d,s,rd,rs, nset = ms.spatial_input_per_sample(Anchor,image[inx], pat[inx], Intensity[inx,:], ct[inx], \n",
    "                                                  x[inx], y[inx], cellid[inx], K, labels[i], OUTDIR)"
   ]
  },
  {
   "cell_type": "code",
   "execution_count": 9,
   "metadata": {},
   "outputs": [
    {
     "name": "stdout",
     "output_type": "stream",
     "text": [
      "output will be rdirected to /Users/sepidehbabaei/Desktop/CRCs/resultsCD4+ T cells/run_log//data_run_log_18_46_19.txt\n"
     ]
    }
   ],
   "source": [
    "\n",
    "Anchor = 'CD4+ T cells'\n",
    "ntrain_per_class = 12\n",
    "K = 50 \n",
    "k = 10\n",
    "\n",
    "# if background sets used the order should be first the sample labels and the random set at the end. Forexample here,\n",
    "# the background label is 2.\n",
    "labels = ['1', '2', 'rand1', 'rand2']\n",
    "classes = [0, 1, 2, 2]\n",
    "\n",
    "path = '/'.join(os.path.abspath(os.getcwd()).split('/')[:-1])+'/CRCs'\n",
    "\n",
    "nrun = 50\n",
    "nset_thr = 0.9\n",
    "background = True\n",
    "ms.run_scima(Anchor, ntrain_per_class, K, k, nset_thr, labels, classes, path, nrun, background)\n",
    "\n"
   ]
  },
  {
   "cell_type": "code",
   "execution_count": 8,
   "metadata": {},
   "outputs": [
    {
     "name": "stdout",
     "output_type": "stream",
     "text": [
      "/Users/sepidehbabaei/Desktop/CRCs/resultsCD4+ T cells/out_18_30_20\n",
      "plotting the test results ....\n",
      "number of measured markers 56\n",
      "keep_idx [1]\n",
      "sample size 250864\n",
      "patient id list Counter({18: 11564, 17: 10483, 4: 10070, 9: 9983, 30: 9383, 5: 9149, 15: 9051, 21: 9040, 16: 8996, 14: 8837, 13: 8378, 8: 8372, 23: 8086, 3: 7671, 31: 7559, 26: 7502, 12: 6762, 7: 6664, 10: 6466, 25: 6356, 19: 6226, 24: 6184, 20: 6173, 28: 6140, 6: 5900, 2: 5862, 32: 5822, 11: 5810, 33: 5542, 1: 5452, 35: 5130, 29: 4921, 27: 4049, 22: 3908, 34: 3373})\n",
      "thresh: 1.7714963223153641\n"
     ]
    }
   ],
   "source": [
    "OUTDIR = '/Users/sepidehbabaei/Desktop/CRCs/resultsCD4+ T cells/out_18_30_20'\n",
    "print(OUTDIR)\n",
    "\n",
    "results=pickle.load(open(OUTDIR+'/model/results.p', 'rb'))                   # model result file\n",
    "\n",
    "Data = pd.read_csv(\"CrCnodirt.csv\", sep=',')\n",
    "data =Data.values\n",
    "cols =Data.columns.tolist()\n",
    "inx = np.asarray(grep(cols, \"Cyc\" , n=True))\n",
    "markers = inx[:,1].tolist()\n",
    "inx = inx [:,0].astype(int)\n",
    "\n",
    "Intensity =data[:,inx]\n",
    "Intensity = (1e-3+Intensity).astype(float)\n",
    "Intensity = np.log2(Intensity)\n",
    "Intensity =stats.zscore(pd.DataFrame(Intensity))\n",
    "samples = Intensity\n",
    "\n",
    "phenotypes = np.asarray(Data['groups'])\n",
    "pat = np.asarray(Data['patients'])\n",
    "\n",
    "analysis_outdir=os.path.join(OUTDIR,'analysis/')\n",
    "mkdir_p(analysis_outdir)\n",
    "\n",
    "print('plotting the test results ....')\n",
    "_ = plot_results(results, samples, phenotypes, markers, analysis_outdir, \n",
    "                 pat, filter_diff_thres=0.2, filter_response_thres=0.0, ALL = True)\n",
    "                 "
   ]
  },
  {
   "cell_type": "code",
   "execution_count": null,
   "metadata": {},
   "outputs": [],
   "source": []
  }
 ],
 "metadata": {
  "kernelspec": {
   "display_name": "Python 3",
   "language": "python",
   "name": "python3"
  },
  "language_info": {
   "codemirror_mode": {
    "name": "ipython",
    "version": 3
   },
   "file_extension": ".py",
   "mimetype": "text/x-python",
   "name": "python",
   "nbconvert_exporter": "python",
   "pygments_lexer": "ipython3",
   "version": "3.7.6"
  }
 },
 "nbformat": 4,
 "nbformat_minor": 4
}
